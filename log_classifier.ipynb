{
 "cells": [
  {
   "cell_type": "markdown",
   "id": "7743f9cb",
   "metadata": {},
   "source": [
    "# Import Libraries"
   ]
  },
  {
   "cell_type": "code",
   "execution_count": 2,
   "id": "583af66f",
   "metadata": {},
   "outputs": [
    {
     "name": "stderr",
     "output_type": "stream",
     "text": [
      "d:\\code\\hybrid-log-classifier\\.venv\\lib\\site-packages\\tqdm\\auto.py:21: TqdmWarning: IProgress not found. Please update jupyter and ipywidgets. See https://ipywidgets.readthedocs.io/en/stable/user_install.html\n",
      "  from .autonotebook import tqdm as notebook_tqdm\n"
     ]
    }
   ],
   "source": [
    "import pandas as pd\n",
    "from sklearn.cluster import DBSCAN\n",
    "from sentence_transformers import SentenceTransformer"
   ]
  },
  {
   "cell_type": "code",
   "execution_count": 13,
   "id": "52fc52d4",
   "metadata": {},
   "outputs": [],
   "source": [
    "from sklearn.preprocessing import StandardScaler"
   ]
  },
  {
   "cell_type": "markdown",
   "id": "2e020c56",
   "metadata": {},
   "source": [
    "## Load and Explore Data"
   ]
  },
  {
   "cell_type": "code",
   "execution_count": 3,
   "id": "b0f5f374",
   "metadata": {},
   "outputs": [
    {
     "data": {
      "text/html": [
       "<div>\n",
       "<style scoped>\n",
       "    .dataframe tbody tr th:only-of-type {\n",
       "        vertical-align: middle;\n",
       "    }\n",
       "\n",
       "    .dataframe tbody tr th {\n",
       "        vertical-align: top;\n",
       "    }\n",
       "\n",
       "    .dataframe thead th {\n",
       "        text-align: right;\n",
       "    }\n",
       "</style>\n",
       "<table border=\"1\" class=\"dataframe\">\n",
       "  <thead>\n",
       "    <tr style=\"text-align: right;\">\n",
       "      <th></th>\n",
       "      <th>timestamp</th>\n",
       "      <th>source</th>\n",
       "      <th>log_message</th>\n",
       "      <th>target_label</th>\n",
       "    </tr>\n",
       "  </thead>\n",
       "  <tbody>\n",
       "    <tr>\n",
       "      <th>0</th>\n",
       "      <td>2025-06-27 07:20:25</td>\n",
       "      <td>ModernCRM</td>\n",
       "      <td>nova.osapi_compute.wsgi.server [req-b9718cd8-f...</td>\n",
       "      <td>HTTP Status</td>\n",
       "    </tr>\n",
       "    <tr>\n",
       "      <th>1</th>\n",
       "      <td>1/14/2025 23:07</td>\n",
       "      <td>ModernCRM</td>\n",
       "      <td>Email service experiencing issues with sending</td>\n",
       "      <td>Critical Error</td>\n",
       "    </tr>\n",
       "    <tr>\n",
       "      <th>2</th>\n",
       "      <td>1/17/2025 1:29</td>\n",
       "      <td>AnalyticsEngine</td>\n",
       "      <td>Unauthorized access to data was attempted</td>\n",
       "      <td>Security Alert</td>\n",
       "    </tr>\n",
       "    <tr>\n",
       "      <th>3</th>\n",
       "      <td>2025-07-12 00:24:16</td>\n",
       "      <td>ModernHR</td>\n",
       "      <td>nova.osapi_compute.wsgi.server [req-4895c258-b...</td>\n",
       "      <td>HTTP Status</td>\n",
       "    </tr>\n",
       "    <tr>\n",
       "      <th>4</th>\n",
       "      <td>2025-06-02 18:25:23</td>\n",
       "      <td>BillingSystem</td>\n",
       "      <td>nova.osapi_compute.wsgi.server [req-ee8bc8ba-9...</td>\n",
       "      <td>HTTP Status</td>\n",
       "    </tr>\n",
       "  </tbody>\n",
       "</table>\n",
       "</div>"
      ],
      "text/plain": [
       "             timestamp           source  \\\n",
       "0  2025-06-27 07:20:25        ModernCRM   \n",
       "1      1/14/2025 23:07        ModernCRM   \n",
       "2       1/17/2025 1:29  AnalyticsEngine   \n",
       "3  2025-07-12 00:24:16         ModernHR   \n",
       "4  2025-06-02 18:25:23    BillingSystem   \n",
       "\n",
       "                                         log_message    target_label  \n",
       "0  nova.osapi_compute.wsgi.server [req-b9718cd8-f...     HTTP Status  \n",
       "1     Email service experiencing issues with sending  Critical Error  \n",
       "2          Unauthorized access to data was attempted  Security Alert  \n",
       "3  nova.osapi_compute.wsgi.server [req-4895c258-b...     HTTP Status  \n",
       "4  nova.osapi_compute.wsgi.server [req-ee8bc8ba-9...     HTTP Status  "
      ]
     },
     "execution_count": 3,
     "metadata": {},
     "output_type": "execute_result"
    }
   ],
   "source": [
    "df = pd.read_csv(\"DATASET/synthetic_logs.csv\")\n",
    "df.head()"
   ]
  },
  {
   "cell_type": "code",
   "execution_count": 4,
   "id": "9a2bcf42",
   "metadata": {},
   "outputs": [
    {
     "data": {
      "text/plain": [
       "source\n",
       "ThirdPartyAPI      496\n",
       "ModernHR           492\n",
       "BillingSystem      479\n",
       "AnalyticsEngine    471\n",
       "ModernCRM          465\n",
       "LegacyCRM            7\n",
       "Name: count, dtype: int64"
      ]
     },
     "execution_count": 4,
     "metadata": {},
     "output_type": "execute_result"
    }
   ],
   "source": [
    "df.source.value_counts()"
   ]
  },
  {
   "cell_type": "code",
   "execution_count": 5,
   "id": "2f229699",
   "metadata": {},
   "outputs": [
    {
     "data": {
      "text/plain": [
       "target_label\n",
       "HTTP Status            1017\n",
       "Security Alert          371\n",
       "System Notification     356\n",
       "Error                   177\n",
       "Resource Usage          177\n",
       "Critical Error          161\n",
       "User Action             144\n",
       "Workflow Error            4\n",
       "Deprecation Warning       3\n",
       "Name: count, dtype: int64"
      ]
     },
     "execution_count": 5,
     "metadata": {},
     "output_type": "execute_result"
    }
   ],
   "source": [
    "df.target_label.value_counts()"
   ]
  },
  {
   "cell_type": "markdown",
   "id": "083a726f",
   "metadata": {},
   "source": [
    "# Clustering"
   ]
  },
  {
   "cell_type": "code",
   "execution_count": 6,
   "id": "8b700ec7",
   "metadata": {},
   "outputs": [
    {
     "name": "stderr",
     "output_type": "stream",
     "text": [
      "d:\\code\\hybrid-log-classifier\\.venv\\lib\\site-packages\\huggingface_hub\\file_download.py:143: UserWarning: `huggingface_hub` cache-system uses symlinks by default to efficiently store duplicated files but your machine does not support them in C:\\Users\\rk\\.cache\\huggingface\\hub\\models--sentence-transformers--all-MiniLM-L6-v2. Caching files will still work but in a degraded version that might require more space on your disk. This warning can be disabled by setting the `HF_HUB_DISABLE_SYMLINKS_WARNING` environment variable. For more details, see https://huggingface.co/docs/huggingface_hub/how-to-cache#limitations.\n",
      "To support symlinks on Windows, you either need to activate Developer Mode or to run Python as an administrator. In order to activate developer mode, see this article: https://docs.microsoft.com/en-us/windows/apps/get-started/enable-your-device-for-development\n",
      "  warnings.warn(message)\n",
      "Xet Storage is enabled for this repo, but the 'hf_xet' package is not installed. Falling back to regular HTTP download. For better performance, install the package with: `pip install huggingface_hub[hf_xet]` or `pip install hf_xet`\n"
     ]
    }
   ],
   "source": [
    "model = SentenceTransformer('all-MiniLM-L6-v2')  \n",
    "embeddings = model.encode(df['log_message'].tolist())"
   ]
  },
  {
   "cell_type": "code",
   "execution_count": 10,
   "id": "504fb51e",
   "metadata": {},
   "outputs": [
    {
     "name": "stdout",
     "output_type": "stream",
     "text": [
      "Embeddings shape: (2410, 384)\n",
      "Each vector length: 384\n"
     ]
    }
   ],
   "source": [
    "print(\"Embeddings shape:\", embeddings.shape)   \n",
    "print(\"Each vector length:\", len(embeddings[0]))"
   ]
  },
  {
   "cell_type": "code",
   "execution_count": 12,
   "id": "a013dca0",
   "metadata": {},
   "outputs": [
    {
     "data": {
      "text/plain": [
       "array([[-0.10293962,  0.03354594, -0.02202607, ...,  0.00457793,\n",
       "        -0.04259717,  0.00322621],\n",
       "       [ 0.00804572, -0.03573923,  0.04938739, ...,  0.01538319,\n",
       "        -0.06230947, -0.02774666],\n",
       "       [-0.00908224,  0.13003924, -0.05275568, ...,  0.02014104,\n",
       "        -0.05117098, -0.02930294],\n",
       "       [-0.09751046,  0.04911299, -0.03977424, ...,  0.02477502,\n",
       "        -0.03546079, -0.00018598],\n",
       "       [-0.10468338,  0.05926038, -0.02488499, ...,  0.02502055,\n",
       "        -0.037193  , -0.0256891 ]], shape=(5, 384), dtype=float32)"
      ]
     },
     "execution_count": 12,
     "metadata": {},
     "output_type": "execute_result"
    }
   ],
   "source": [
    "embeddings[:5]"
   ]
  },
  {
   "cell_type": "code",
   "execution_count": null,
   "id": "807319ef",
   "metadata": {},
   "outputs": [
    {
     "name": "stdout",
     "output_type": "stream",
     "text": [
      "Number of clusters: 136\n"
     ]
    }
   ],
   "source": [
    "clustering = DBSCAN(eps=0.2, min_samples=1, metric='cosine').fit(embeddings)\n",
    "df['cluster'] = clustering.labels_\n",
    "\n",
    "print(\"Number of clusters:\", len(set(clustering.labels_)))"
   ]
  }
 ],
 "metadata": {
  "kernelspec": {
   "display_name": ".venv",
   "language": "python",
   "name": "python3"
  },
  "language_info": {
   "codemirror_mode": {
    "name": "ipython",
    "version": 3
   },
   "file_extension": ".py",
   "mimetype": "text/x-python",
   "name": "python",
   "nbconvert_exporter": "python",
   "pygments_lexer": "ipython3",
   "version": "3.10.0"
  }
 },
 "nbformat": 4,
 "nbformat_minor": 5
}
