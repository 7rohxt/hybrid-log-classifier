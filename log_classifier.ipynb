{
 "cells": [
  {
   "cell_type": "markdown",
   "id": "7743f9cb",
   "metadata": {},
   "source": [
    "# Import Libraries"
   ]
  },
  {
   "cell_type": "code",
   "execution_count": 2,
   "id": "583af66f",
   "metadata": {},
   "outputs": [
    {
     "name": "stderr",
     "output_type": "stream",
     "text": [
      "d:\\code\\hybrid-log-classifier\\.venv\\lib\\site-packages\\tqdm\\auto.py:21: TqdmWarning: IProgress not found. Please update jupyter and ipywidgets. See https://ipywidgets.readthedocs.io/en/stable/user_install.html\n",
      "  from .autonotebook import tqdm as notebook_tqdm\n"
     ]
    }
   ],
   "source": [
    "import pandas as pd\n",
    "from sklearn.cluster import DBSCAN\n",
    "from sentence_transformers import SentenceTransformer"
   ]
  },
  {
   "cell_type": "code",
   "execution_count": 51,
   "id": "52fc52d4",
   "metadata": {},
   "outputs": [],
   "source": [
    "from sklearn.preprocessing import StandardScaler\n",
    "from sklearn.model_selection import train_test_split\n",
    "from sklearn.linear_model import LogisticRegression\n",
    "from sklearn.metrics import accuracy_score\n",
    "from sklearn.metrics import classification_report"
   ]
  },
  {
   "cell_type": "markdown",
   "id": "2e020c56",
   "metadata": {},
   "source": [
    "## Load and Explore Data"
   ]
  },
  {
   "cell_type": "code",
   "execution_count": 4,
   "id": "b0f5f374",
   "metadata": {},
   "outputs": [
    {
     "data": {
      "text/html": [
       "<div>\n",
       "<style scoped>\n",
       "    .dataframe tbody tr th:only-of-type {\n",
       "        vertical-align: middle;\n",
       "    }\n",
       "\n",
       "    .dataframe tbody tr th {\n",
       "        vertical-align: top;\n",
       "    }\n",
       "\n",
       "    .dataframe thead th {\n",
       "        text-align: right;\n",
       "    }\n",
       "</style>\n",
       "<table border=\"1\" class=\"dataframe\">\n",
       "  <thead>\n",
       "    <tr style=\"text-align: right;\">\n",
       "      <th></th>\n",
       "      <th>timestamp</th>\n",
       "      <th>source</th>\n",
       "      <th>log_message</th>\n",
       "      <th>target_label</th>\n",
       "    </tr>\n",
       "  </thead>\n",
       "  <tbody>\n",
       "    <tr>\n",
       "      <th>0</th>\n",
       "      <td>2025-06-27 07:20:25</td>\n",
       "      <td>ModernCRM</td>\n",
       "      <td>nova.osapi_compute.wsgi.server [req-b9718cd8-f...</td>\n",
       "      <td>HTTP Status</td>\n",
       "    </tr>\n",
       "    <tr>\n",
       "      <th>1</th>\n",
       "      <td>1/14/2025 23:07</td>\n",
       "      <td>ModernCRM</td>\n",
       "      <td>Email service experiencing issues with sending</td>\n",
       "      <td>Critical Error</td>\n",
       "    </tr>\n",
       "    <tr>\n",
       "      <th>2</th>\n",
       "      <td>1/17/2025 1:29</td>\n",
       "      <td>AnalyticsEngine</td>\n",
       "      <td>Unauthorized access to data was attempted</td>\n",
       "      <td>Security Alert</td>\n",
       "    </tr>\n",
       "    <tr>\n",
       "      <th>3</th>\n",
       "      <td>2025-07-12 00:24:16</td>\n",
       "      <td>ModernHR</td>\n",
       "      <td>nova.osapi_compute.wsgi.server [req-4895c258-b...</td>\n",
       "      <td>HTTP Status</td>\n",
       "    </tr>\n",
       "    <tr>\n",
       "      <th>4</th>\n",
       "      <td>2025-06-02 18:25:23</td>\n",
       "      <td>BillingSystem</td>\n",
       "      <td>nova.osapi_compute.wsgi.server [req-ee8bc8ba-9...</td>\n",
       "      <td>HTTP Status</td>\n",
       "    </tr>\n",
       "  </tbody>\n",
       "</table>\n",
       "</div>"
      ],
      "text/plain": [
       "             timestamp           source  \\\n",
       "0  2025-06-27 07:20:25        ModernCRM   \n",
       "1      1/14/2025 23:07        ModernCRM   \n",
       "2       1/17/2025 1:29  AnalyticsEngine   \n",
       "3  2025-07-12 00:24:16         ModernHR   \n",
       "4  2025-06-02 18:25:23    BillingSystem   \n",
       "\n",
       "                                         log_message    target_label  \n",
       "0  nova.osapi_compute.wsgi.server [req-b9718cd8-f...     HTTP Status  \n",
       "1     Email service experiencing issues with sending  Critical Error  \n",
       "2          Unauthorized access to data was attempted  Security Alert  \n",
       "3  nova.osapi_compute.wsgi.server [req-4895c258-b...     HTTP Status  \n",
       "4  nova.osapi_compute.wsgi.server [req-ee8bc8ba-9...     HTTP Status  "
      ]
     },
     "execution_count": 4,
     "metadata": {},
     "output_type": "execute_result"
    }
   ],
   "source": [
    "df = pd.read_csv(\"DATASET/synthetic_logs.csv\")\n",
    "df.head()"
   ]
  },
  {
   "cell_type": "code",
   "execution_count": 5,
   "id": "9a2bcf42",
   "metadata": {},
   "outputs": [
    {
     "data": {
      "text/plain": [
       "source\n",
       "ThirdPartyAPI      496\n",
       "ModernHR           492\n",
       "BillingSystem      479\n",
       "AnalyticsEngine    471\n",
       "ModernCRM          465\n",
       "LegacyCRM            7\n",
       "Name: count, dtype: int64"
      ]
     },
     "execution_count": 5,
     "metadata": {},
     "output_type": "execute_result"
    }
   ],
   "source": [
    "df.source.value_counts()"
   ]
  },
  {
   "cell_type": "code",
   "execution_count": 6,
   "id": "2f229699",
   "metadata": {},
   "outputs": [
    {
     "data": {
      "text/plain": [
       "target_label\n",
       "HTTP Status            1017\n",
       "Security Alert          371\n",
       "System Notification     356\n",
       "Error                   177\n",
       "Resource Usage          177\n",
       "Critical Error          161\n",
       "User Action             144\n",
       "Workflow Error            4\n",
       "Deprecation Warning       3\n",
       "Name: count, dtype: int64"
      ]
     },
     "execution_count": 6,
     "metadata": {},
     "output_type": "execute_result"
    }
   ],
   "source": [
    "df.target_label.value_counts()"
   ]
  },
  {
   "cell_type": "markdown",
   "id": "083a726f",
   "metadata": {},
   "source": [
    "# Clustering"
   ]
  },
  {
   "cell_type": "code",
   "execution_count": 7,
   "id": "8b700ec7",
   "metadata": {},
   "outputs": [],
   "source": [
    "model = SentenceTransformer('all-MiniLM-L6-v2')  \n",
    "embeddings = model.encode(df['log_message'].tolist())"
   ]
  },
  {
   "cell_type": "code",
   "execution_count": 8,
   "id": "504fb51e",
   "metadata": {},
   "outputs": [
    {
     "name": "stdout",
     "output_type": "stream",
     "text": [
      "Embeddings shape: (2410, 384)\n",
      "Each vector length: 384\n"
     ]
    }
   ],
   "source": [
    "print(\"Embeddings shape:\", embeddings.shape)   \n",
    "print(\"Each vector length:\", len(embeddings[0]))"
   ]
  },
  {
   "cell_type": "code",
   "execution_count": 9,
   "id": "a013dca0",
   "metadata": {},
   "outputs": [
    {
     "data": {
      "text/plain": [
       "array([[-0.10293962,  0.03354594, -0.02202607, ...,  0.00457793,\n",
       "        -0.04259717,  0.00322621],\n",
       "       [ 0.00804572, -0.03573923,  0.04938739, ...,  0.01538319,\n",
       "        -0.06230947, -0.02774666],\n",
       "       [-0.00908224,  0.13003924, -0.05275568, ...,  0.02014104,\n",
       "        -0.05117098, -0.02930294],\n",
       "       [-0.09751046,  0.04911299, -0.03977424, ...,  0.02477502,\n",
       "        -0.03546079, -0.00018598],\n",
       "       [-0.10468338,  0.05926038, -0.02488499, ...,  0.02502055,\n",
       "        -0.037193  , -0.0256891 ]], shape=(5, 384), dtype=float32)"
      ]
     },
     "execution_count": 9,
     "metadata": {},
     "output_type": "execute_result"
    }
   ],
   "source": [
    "embeddings[:5]"
   ]
  },
  {
   "cell_type": "code",
   "execution_count": 10,
   "id": "807319ef",
   "metadata": {},
   "outputs": [
    {
     "name": "stdout",
     "output_type": "stream",
     "text": [
      "Number of clusters: 136\n"
     ]
    }
   ],
   "source": [
    "clustering = DBSCAN(eps=0.2, min_samples=1, metric='cosine').fit(embeddings)\n",
    "df['cluster'] = clustering.labels_\n",
    "\n",
    "print(\"Number of clusters:\", len(set(clustering.labels_)))"
   ]
  },
  {
   "cell_type": "code",
   "execution_count": 11,
   "id": "2fb160f9",
   "metadata": {},
   "outputs": [
    {
     "name": "stdout",
     "output_type": "stream",
     "text": [
      "\n",
      "Cluster 0 (size: 1017)\n",
      "    nova.osapi_compute.wsgi.server [req-b9718cd8-f65e-49cc-8349-6cf7122af137 113d3a99c3da401fbd62cc2caa5b96d2 54fadb412c4e40cdbaed9335e4c35a9e - - -] 10.11.10.1 \"GET /v2/54fadb412c4e40cdbaed9335e4c35a9e/servers/detail HTTP/1.1\" status: 200 len: 1893 time: 0.2675118\n",
      "    nova.osapi_compute.wsgi.server [req-4895c258-b2f8-488f-a2a3-4fae63982e48 113d3a99c3da401fbd62cc2caa5b96d2 54fadb412c4e40cdbaed9335e4c35a9e - - -] 10.11.10.1 \"GET /v2/54fadb412c4e40cdbaed9335e4c35a9e/servers/detail HTTP/1.1\" HTTP status code -  200 len: 211 time: 0.0968180\n",
      "    nova.osapi_compute.wsgi.server [req-ee8bc8ba-9265-4280-9215-dbe000a41209 113d3a99c3da401fbd62cc2caa5b96d2 54fadb412c4e40cdbaed9335e4c35a9e - - -] 10.11.10.1 \"GET /v2/54fadb412c4e40cdbaed9335e4c35a9e/servers/detail HTTP/1.1\" RCODE  200 len: 1874 time: 0.2280791\n",
      "    nova.osapi_compute.wsgi.server [req-f0bffbc3-5ab0-4916-91c1-0a61dd7d4ec2 113d3a99c3da401fbd62cc2caa5b96d2 54fadb412c4e40cdbaed9335e4c35a9e - - -] 10.11.10.1 \"GET /v2/54fadb412c4e40cdbaed9335e4c35a9e/servers/detail HTTP/1.1\" Return code: 200 len: 1874 time: 0.2131531\n",
      "    nova.osapi_compute.wsgi.server [req-2bf7cfee-a236-42f3-8fb1-96fefab0b302 113d3a99c3da401fbd62cc2caa5b96d2 54fadb412c4e40cdbaed9335e4c35a9e - - -] 10.11.10.1 \"GET /v2/54fadb412c4e40cdbaed9335e4c35a9e/servers/detail HTTP/1.1\" RCODE  200 len: 1874 time: 0.1794369\n",
      "\n",
      "Cluster 5 (size: 147)\n",
      "    nova.compute.claims [req-a07ac654-8e81-416d-bfbb-189116b07969 113d3a99c3da401fbd62cc2caa5b96d2 54fadb412c4e40cdbaed9335e4c35a9e - - -] [instance: bf8c824d-f099-4433-a41e-e3da7578262e] Total memory: 64172 MB, used: 512.00 MB\n",
      "    nova.compute.claims [req-d6986b54-3735-4a42-9074-0ba7d9717de9 113d3a99c3da401fbd62cc2caa5b96d2 54fadb412c4e40cdbaed9335e4c35a9e - - -] [instance: af5f7392-f7d4-4298-b647-c98924c64aa1] memory limit: 96258.00 MB, free: 95746.00 MB\n",
      "    nova.compute.claims [req-72b4858f-049e-49e1-b31e-b562c5018eaf 113d3a99c3da401fbd62cc2caa5b96d2 54fadb412c4e40cdbaed9335e4c35a9e - - -] [instance: 63a0d960-70b6-44c6-b606-491478a5cadf] disk limit not specified, defaulting to unlimited\n",
      "    nova.compute.claims [req-5c8f52bd-8e3c-41f0-95a5-7861d247cafa 113d3a99c3da401fbd62cc2caa5b96d2 54fadb412c4e40cdbaed9335e4c35a9e - - -] [instance: d96a117b-0193-4549-bdcc-63b917273d1d] vcpu limit not specified, defaulting to unlimited\n",
      "    nova.compute.claims [req-d38f479d-9bb9-4276-9688-52607e8fd350 113d3a99c3da401fbd62cc2caa5b96d2 54fadb412c4e40cdbaed9335e4c35a9e - - -] [instance: 95960536-049b-41f6-9049-05fc479b6a7c] disk limit not specified, defaulting to unlimited\n",
      "\n",
      "Cluster 11 (size: 100)\n",
      "    User User685 logged out.\n",
      "    User User395 logged in.\n",
      "    User User225 logged in.\n",
      "    User User494 logged out.\n",
      "    User User900 logged in.\n",
      "\n",
      "Cluster 13 (size: 86)\n",
      "    Backup started at 2025-05-14 07:06:55.\n",
      "    Backup started at 2025-02-15 20:00:19.\n",
      "    Backup ended at 2025-08-08 13:06:23.\n",
      "    Backup started at 2025-11-14 08:27:43.\n",
      "    Backup started at 2025-12-09 10:19:11.\n",
      "\n",
      "Cluster 7 (size: 60)\n",
      "    Multiple bad login attempts detected on user 8538 account\n",
      "    Multiple login failures occurred on user 9052 account\n",
      "    User 7153 made multiple incorrect login attempts\n",
      "    User 8300 made multiple incorrect login attempts\n",
      "    Multiple login failures were detected for user 6373\n",
      "\n",
      "Cluster 8 (size: 60)\n",
      "    Backup completed successfully.\n",
      "    Backup completed successfully.\n",
      "    Backup completed successfully.\n",
      "    Backup completed successfully.\n",
      "    Backup completed successfully.\n",
      "\n",
      "Cluster 21 (size: 58)\n",
      "    System updated to version 3.9.1.\n",
      "    System updated to version 5.5.4.\n",
      "    System updated to version 4.7.4.\n",
      "    System updated to version 3.7.7.\n",
      "    System updated to version 2.6.2.\n",
      "\n",
      "Cluster 3 (size: 57)\n",
      "    Shard 6 replication task ended in failure\n",
      "    Data replication task for shard 14 did not complete\n",
      "    Data replication task failed for shard 17\n",
      "    Replication of data to shard 14 failed\n",
      "    Data replication task for shard 6 did not complete\n",
      "\n",
      "Cluster 4 (size: 53)\n",
      "    File data_6169.csv uploaded successfully by user User953.\n",
      "    File data_3847.csv uploaded successfully by user User175.\n",
      "    File data_7366.csv uploaded successfully by user User282.\n",
      "    File data_1206.csv uploaded successfully by user User359.\n",
      "    File data_1503.csv uploaded successfully by user User151.\n",
      "\n",
      "Cluster 17 (size: 52)\n",
      "    Denied access attempt on restricted account Account2682\n",
      "    Unauthorized login attempt on protected account Account5030\n",
      "    Account Account9437 blocked due to failed login\n",
      "    Account Account7999 access denied due to login failure\n",
      "    Invalid login attempt made on secured account Account7864\n",
      "\n",
      "Cluster 6 (size: 51)\n",
      "    Critical system unit error: unit ID Component55\n",
      "    System component malfunction: component ID Component79\n",
      "    Critical system element is down: element ID Component96\n",
      "    Essential system part malfunction: part ID Component6\n",
      "    Failure occurred in critical system component: component ID Component92\n",
      "\n",
      "Cluster 32 (size: 51)\n",
      "    Disk cleanup completed successfully.\n",
      "    Disk cleanup completed successfully.\n",
      "    Disk cleanup completed successfully.\n",
      "    Disk cleanup completed successfully.\n",
      "    Disk cleanup completed successfully.\n",
      "\n",
      "Cluster 16 (size: 48)\n",
      "    System reboot initiated by user User243.\n",
      "    System reboot initiated by user User471.\n",
      "    System reboot initiated by user User216.\n",
      "    System reboot initiated by user User639.\n",
      "    System reboot initiated by user User819.\n",
      "\n",
      "Cluster 20 (size: 48)\n",
      "    User 7662 tried to bypass API security measures\n",
      "    User 2367 failed to provide valid API access credentials\n",
      "    User 3569 made an unauthorized API request\n",
      "    Unauthorized user 2968 tried to access restricted API\n",
      "    User 2186 attempted to access API without proper authorization\n",
      "\n",
      "Cluster 9 (size: 44)\n",
      "    Account with ID 5351 created by User634.\n",
      "    Account with ID 7813 created by User373.\n",
      "    Account with ID 9827 created by User965.\n",
      "    Account with ID 2520 created by User546.\n",
      "    Account with ID 2300 created by User964.\n",
      "\n",
      "Cluster 1 (size: 39)\n",
      "    Email service experiencing issues with sending\n",
      "    Email server encountered a sending fault\n",
      "    Mail service encountered a delivery glitch\n",
      "    Service disruption caused by email sending error\n",
      "    Email system had a problem sending emails\n",
      "\n",
      "Cluster 10 (size: 30)\n",
      "    nova.compute.resource_tracker [req-addc1839-2ed5-4778-b57e-5854eb7b8b09 - - - - -] Final resource view: name=cp-1.slowvm1.tcloud-pg0.utah.cloudlab.us phys_ram=64172MB used_ram=512MB phys_disk=15GB used_disk=0GB total_vcpus=16 used_vcpus=0 pci_stats=[]\n",
      "    nova.compute.resource_tracker [req-addc1839-2ed5-4778-b57e-5854eb7b8b09 - - - - -] Final resource view: name=cp-1.slowvm1.tcloud-pg0.utah.cloudlab.us phys_ram=64172MB used_ram=2560MB phys_disk=15GB used_disk=20GB total_vcpus=16 used_vcpus=1 pci_stats=[]\n",
      "    nova.compute.resource_tracker [req-addc1839-2ed5-4778-b57e-5854eb7b8b09 - - - - -] Total usable vcpus: 16, total allocated vcpus: 0\n",
      "    nova.compute.resource_tracker [req-addc1839-2ed5-4778-b57e-5854eb7b8b09 - - - - -] Final resource view: name=cp-1.slowvm1.tcloud-pg0.utah.cloudlab.us phys_ram=64172MB used_ram=2560MB phys_disk=15GB used_disk=20GB total_vcpus=16 used_vcpus=1 pci_stats=[]\n",
      "    nova.compute.resource_tracker [req-addc1839-2ed5-4778-b57e-5854eb7b8b09 - - - - -] Final resource view: name=cp-1.slowvm1.tcloud-pg0.utah.cloudlab.us phys_ram=64172MB used_ram=2560MB phys_disk=15GB used_disk=20GB total_vcpus=16 used_vcpus=1 pci_stats=[]\n",
      "\n",
      "Cluster 34 (size: 25)\n",
      "    Abnormal behavior found on server 10, possible security threat\n",
      "    Security alert: suspicious activity on server 1\n",
      "    Anomalous activity identified on server 23, security review recommended\n",
      "    Server 27 experienced potential security incident, review required\n",
      "    Server 36 experienced potential security incident, review required\n",
      "\n",
      "Cluster 53 (size: 20)\n",
      "    Module X experienced an invalid data format issue\n",
      "    Input format mismatch occurred in module X\n",
      "    Module X reported an error in input format validation\n",
      "    Module X failed to process input due to formatting error\n",
      "    Input data format in module X was invalid or corrupted\n",
      "\n",
      "Cluster 14 (size: 20)\n",
      "    Detection of multiple disk faults in RAID setup\n",
      "    RAID array suffered multiple hard drive failures\n",
      "    RAID array experienced multiple disk crashes\n",
      "    Multiple hard drive issues in RAID configuration found\n",
      "    Identification of multiple faulty disks in RAID array\n",
      "\n",
      "Cluster 52 (size: 20)\n",
      "    Service health check was not successful because of SSL certificate validation failures.\n",
      "    Invalid SSL certificate resulted in a failed service health check.\n",
      "    Service health check failure was due to an invalid or improperly configured SSL certificate.\n",
      "    An issue with the SSL certificate caused the service health check to fail.\n",
      "    Service health check failure was caused by an expired SSL certificate.\n",
      "\n",
      "Cluster 18 (size: 17)\n",
      "    Boot process terminated unexpectedly due to kernel issue\n",
      "    System encountered kernel panic during initialization phase\n",
      "    Boot process was stopped by kernel malfunction\n",
      "    System encountered kernel failure during bootup sequence\n",
      "    Boot sequence failed due to kernel panic\n",
      "\n",
      "Cluster 42 (size: 13)\n",
      "    User 5127 has escalated admin privileges without authorization\n",
      "    User 9745 has escalated to admin level\n",
      "    User 8483 escalated privileges to admin level\n",
      "    User 1987 has escalated to admin level\n",
      "    User 8395 escalated privileges to admin level\n",
      "\n",
      "Cluster 25 (size: 13)\n",
      "    System configuration is no longer valid\n",
      "    Configuration is corrupted throughout the system\n",
      "    Cross-system configuration failure occurred\n",
      "    System configuration is experiencing errors\n",
      "    Configuration malfunction is system-wide\n",
      "\n",
      "Cluster 59 (size: 12)\n",
      "    Potential security threat: Admin privilege escalation for user 5130\n",
      "    Admin privilege escalation alert for user 2893\n",
      "    Admin privilege escalation alert for user 8532\n",
      "    Potential security threat: Admin privilege escalation for user 1554\n",
      "    Warning: Potential admin privilege escalation for user 5720\n",
      "\n",
      "Cluster 26 (size: 11)\n",
      "    Privilege elevation detected for user 5038\n",
      "    Elevation of admin privileges detected for user 6137\n",
      "    Elevation of admin privileges detected for user 4907\n",
      "    User 6069 has been granted elevated admin privileges\n",
      "    Admin privilege elevation warning for user 7574\n"
     ]
    }
   ],
   "source": [
    "cluster_counts = df['cluster'].value_counts()\n",
    "\n",
    "big_clusters = cluster_counts[cluster_counts > 10].index\n",
    "\n",
    "for cluster_id in big_clusters:\n",
    "    logs = df[df['cluster'] == cluster_id]['log_message'].head(5).tolist()\n",
    "    print(f\"\\nCluster {cluster_id} (size: {cluster_counts[cluster_id]})\")\n",
    "    for log in logs:\n",
    "        print(\"   \", log)"
   ]
  },
  {
   "cell_type": "markdown",
   "id": "ef246427",
   "metadata": {},
   "source": [
    "# 1. Classification with Regex"
   ]
  },
  {
   "cell_type": "code",
   "execution_count": 12,
   "id": "7862c46c",
   "metadata": {},
   "outputs": [],
   "source": [
    "import re\n",
    "def classify_with_regex(log_message):\n",
    "    regex_patterns = {\n",
    "        r\"User User\\d+ logged (in|out).\": \"User Action\",\n",
    "        r\"Backup (started|ended) at .*\": \"System Notification\",\n",
    "        r\"Backup completed successfully.\": \"System Notification\",\n",
    "        r\"System updated to version .*\": \"System Notification\",\n",
    "        r\"File .* uploaded successfully by user .*\": \"System Notification\",\n",
    "        r\"Disk cleanup completed successfully.\": \"System Notification\",\n",
    "        r\"System reboot initiated by user .*\": \"System Notification\",\n",
    "        r\"Account with ID .* created by .*\": \"User Action\"\n",
    "    }\n",
    "    for pattern, label in regex_patterns.items():\n",
    "        if re.search(pattern, log_message):\n",
    "            return label\n",
    "    return None"
   ]
  },
  {
   "cell_type": "markdown",
   "id": "979aa9b1",
   "metadata": {},
   "source": [
    "### Test the function classify_with_regex"
   ]
  },
  {
   "cell_type": "code",
   "execution_count": 13,
   "id": "6b548776",
   "metadata": {},
   "outputs": [
    {
     "data": {
      "text/plain": [
       "'User Action'"
      ]
     },
     "execution_count": 13,
     "metadata": {},
     "output_type": "execute_result"
    }
   ],
   "source": [
    "classify_with_regex(\"User User123 logged in.\")"
   ]
  },
  {
   "cell_type": "code",
   "execution_count": 14,
   "id": "017bed7d",
   "metadata": {},
   "outputs": [],
   "source": [
    "# for unseen mesaage, it will return None\n",
    "classify_with_regex(\"unseen log message\")"
   ]
  },
  {
   "cell_type": "markdown",
   "id": "e2393c13",
   "metadata": {},
   "source": [
    "### Add New Column and Classify with Regex"
   ]
  },
  {
   "cell_type": "code",
   "execution_count": null,
   "id": "8488fe27",
   "metadata": {},
   "outputs": [],
   "source": [
    "df['regex_label'] = df['log_message'].apply(lambda x: classify_with_regex(x))"
   ]
  },
  {
   "cell_type": "markdown",
   "id": "ae750143",
   "metadata": {},
   "source": [
    "### Logs Classified with regex"
   ]
  },
  {
   "cell_type": "code",
   "execution_count": 25,
   "id": "dd675278",
   "metadata": {},
   "outputs": [
    {
     "name": "stdout",
     "output_type": "stream",
     "text": [
      "Logs classified with Regex: 500\n"
     ]
    },
    {
     "data": {
      "text/html": [
       "<div>\n",
       "<style scoped>\n",
       "    .dataframe tbody tr th:only-of-type {\n",
       "        vertical-align: middle;\n",
       "    }\n",
       "\n",
       "    .dataframe tbody tr th {\n",
       "        vertical-align: top;\n",
       "    }\n",
       "\n",
       "    .dataframe thead th {\n",
       "        text-align: right;\n",
       "    }\n",
       "</style>\n",
       "<table border=\"1\" class=\"dataframe\">\n",
       "  <thead>\n",
       "    <tr style=\"text-align: right;\">\n",
       "      <th></th>\n",
       "      <th>timestamp</th>\n",
       "      <th>source</th>\n",
       "      <th>log_message</th>\n",
       "      <th>target_label</th>\n",
       "      <th>cluster</th>\n",
       "      <th>regex_label</th>\n",
       "    </tr>\n",
       "  </thead>\n",
       "  <tbody>\n",
       "    <tr>\n",
       "      <th>7</th>\n",
       "      <td>10/11/2025 8:44</td>\n",
       "      <td>ModernHR</td>\n",
       "      <td>File data_6169.csv uploaded successfully by us...</td>\n",
       "      <td>System Notification</td>\n",
       "      <td>4</td>\n",
       "      <td>System Notification</td>\n",
       "    </tr>\n",
       "    <tr>\n",
       "      <th>14</th>\n",
       "      <td>1/4/2025 1:43</td>\n",
       "      <td>ThirdPartyAPI</td>\n",
       "      <td>File data_3847.csv uploaded successfully by us...</td>\n",
       "      <td>System Notification</td>\n",
       "      <td>4</td>\n",
       "      <td>System Notification</td>\n",
       "    </tr>\n",
       "    <tr>\n",
       "      <th>15</th>\n",
       "      <td>5/1/2025 9:41</td>\n",
       "      <td>ModernCRM</td>\n",
       "      <td>Backup completed successfully.</td>\n",
       "      <td>System Notification</td>\n",
       "      <td>8</td>\n",
       "      <td>System Notification</td>\n",
       "    </tr>\n",
       "    <tr>\n",
       "      <th>18</th>\n",
       "      <td>2/22/2025 17:49</td>\n",
       "      <td>ModernCRM</td>\n",
       "      <td>Account with ID 5351 created by User634.</td>\n",
       "      <td>User Action</td>\n",
       "      <td>9</td>\n",
       "      <td>User Action</td>\n",
       "    </tr>\n",
       "    <tr>\n",
       "      <th>27</th>\n",
       "      <td>9/24/2025 19:57</td>\n",
       "      <td>ThirdPartyAPI</td>\n",
       "      <td>User User685 logged out.</td>\n",
       "      <td>User Action</td>\n",
       "      <td>11</td>\n",
       "      <td>User Action</td>\n",
       "    </tr>\n",
       "  </tbody>\n",
       "</table>\n",
       "</div>"
      ],
      "text/plain": [
       "          timestamp         source  \\\n",
       "7   10/11/2025 8:44       ModernHR   \n",
       "14    1/4/2025 1:43  ThirdPartyAPI   \n",
       "15    5/1/2025 9:41      ModernCRM   \n",
       "18  2/22/2025 17:49      ModernCRM   \n",
       "27  9/24/2025 19:57  ThirdPartyAPI   \n",
       "\n",
       "                                          log_message         target_label  \\\n",
       "7   File data_6169.csv uploaded successfully by us...  System Notification   \n",
       "14  File data_3847.csv uploaded successfully by us...  System Notification   \n",
       "15                     Backup completed successfully.  System Notification   \n",
       "18           Account with ID 5351 created by User634.          User Action   \n",
       "27                           User User685 logged out.          User Action   \n",
       "\n",
       "    cluster          regex_label  \n",
       "7         4  System Notification  \n",
       "14        4  System Notification  \n",
       "15        8  System Notification  \n",
       "18        9          User Action  \n",
       "27       11          User Action  "
      ]
     },
     "execution_count": 25,
     "metadata": {},
     "output_type": "execute_result"
    }
   ],
   "source": [
    "df_regex = df[df['regex_label'].notnull()]\n",
    "\n",
    "print(f\"Logs classified with Regex: {df_regex.shape[0]}\")\n",
    "df_regex.head()"
   ]
  },
  {
   "cell_type": "code",
   "execution_count": 31,
   "id": "cca2ab30",
   "metadata": {},
   "outputs": [
    {
     "name": "stdout",
     "output_type": "stream",
     "text": [
      "Regex Accuracy: 1.0\n"
     ]
    }
   ],
   "source": [
    "# Accuracy for regex predictions\n",
    "\n",
    "re_correct_pred= df_regex[df_regex['target_label']==df_regex['regex_label']].shape[0]\n",
    "regex_acc = re_correct_pred / df_regex.shape[0]\n",
    "\n",
    "print(f\"Regex Accuracy: {regex_acc}\")"
   ]
  },
  {
   "cell_type": "markdown",
   "id": "cf4b3f72",
   "metadata": {},
   "source": [
    "### Logs Not classified with regex"
   ]
  },
  {
   "cell_type": "code",
   "execution_count": 33,
   "id": "37836cf3",
   "metadata": {},
   "outputs": [
    {
     "name": "stdout",
     "output_type": "stream",
     "text": [
      "Logs not classified with Regex: 1910\n"
     ]
    },
    {
     "data": {
      "text/html": [
       "<div>\n",
       "<style scoped>\n",
       "    .dataframe tbody tr th:only-of-type {\n",
       "        vertical-align: middle;\n",
       "    }\n",
       "\n",
       "    .dataframe tbody tr th {\n",
       "        vertical-align: top;\n",
       "    }\n",
       "\n",
       "    .dataframe thead th {\n",
       "        text-align: right;\n",
       "    }\n",
       "</style>\n",
       "<table border=\"1\" class=\"dataframe\">\n",
       "  <thead>\n",
       "    <tr style=\"text-align: right;\">\n",
       "      <th></th>\n",
       "      <th>timestamp</th>\n",
       "      <th>source</th>\n",
       "      <th>log_message</th>\n",
       "      <th>target_label</th>\n",
       "      <th>cluster</th>\n",
       "      <th>regex_label</th>\n",
       "    </tr>\n",
       "  </thead>\n",
       "  <tbody>\n",
       "    <tr>\n",
       "      <th>0</th>\n",
       "      <td>2025-06-27 07:20:25</td>\n",
       "      <td>ModernCRM</td>\n",
       "      <td>nova.osapi_compute.wsgi.server [req-b9718cd8-f...</td>\n",
       "      <td>HTTP Status</td>\n",
       "      <td>0</td>\n",
       "      <td>None</td>\n",
       "    </tr>\n",
       "    <tr>\n",
       "      <th>1</th>\n",
       "      <td>1/14/2025 23:07</td>\n",
       "      <td>ModernCRM</td>\n",
       "      <td>Email service experiencing issues with sending</td>\n",
       "      <td>Critical Error</td>\n",
       "      <td>1</td>\n",
       "      <td>None</td>\n",
       "    </tr>\n",
       "    <tr>\n",
       "      <th>2</th>\n",
       "      <td>1/17/2025 1:29</td>\n",
       "      <td>AnalyticsEngine</td>\n",
       "      <td>Unauthorized access to data was attempted</td>\n",
       "      <td>Security Alert</td>\n",
       "      <td>2</td>\n",
       "      <td>None</td>\n",
       "    </tr>\n",
       "    <tr>\n",
       "      <th>3</th>\n",
       "      <td>2025-07-12 00:24:16</td>\n",
       "      <td>ModernHR</td>\n",
       "      <td>nova.osapi_compute.wsgi.server [req-4895c258-b...</td>\n",
       "      <td>HTTP Status</td>\n",
       "      <td>0</td>\n",
       "      <td>None</td>\n",
       "    </tr>\n",
       "    <tr>\n",
       "      <th>4</th>\n",
       "      <td>2025-06-02 18:25:23</td>\n",
       "      <td>BillingSystem</td>\n",
       "      <td>nova.osapi_compute.wsgi.server [req-ee8bc8ba-9...</td>\n",
       "      <td>HTTP Status</td>\n",
       "      <td>0</td>\n",
       "      <td>None</td>\n",
       "    </tr>\n",
       "  </tbody>\n",
       "</table>\n",
       "</div>"
      ],
      "text/plain": [
       "             timestamp           source  \\\n",
       "0  2025-06-27 07:20:25        ModernCRM   \n",
       "1      1/14/2025 23:07        ModernCRM   \n",
       "2       1/17/2025 1:29  AnalyticsEngine   \n",
       "3  2025-07-12 00:24:16         ModernHR   \n",
       "4  2025-06-02 18:25:23    BillingSystem   \n",
       "\n",
       "                                         log_message    target_label  cluster  \\\n",
       "0  nova.osapi_compute.wsgi.server [req-b9718cd8-f...     HTTP Status        0   \n",
       "1     Email service experiencing issues with sending  Critical Error        1   \n",
       "2          Unauthorized access to data was attempted  Security Alert        2   \n",
       "3  nova.osapi_compute.wsgi.server [req-4895c258-b...     HTTP Status        0   \n",
       "4  nova.osapi_compute.wsgi.server [req-ee8bc8ba-9...     HTTP Status        0   \n",
       "\n",
       "  regex_label  \n",
       "0        None  \n",
       "1        None  \n",
       "2        None  \n",
       "3        None  \n",
       "4        None  "
      ]
     },
     "execution_count": 33,
     "metadata": {},
     "output_type": "execute_result"
    }
   ],
   "source": [
    "df_non_regex = df[df['regex_label'].isnull()]\n",
    "\n",
    "print(f\"Logs not classified with Regex: {df_non_regex.shape[0]}\")\n",
    "df_non_regex.head()"
   ]
  },
  {
   "cell_type": "markdown",
   "id": "6e4edbd0",
   "metadata": {},
   "source": [
    "# 2. Classification Using ML"
   ]
  },
  {
   "cell_type": "markdown",
   "id": "717e7dff",
   "metadata": {},
   "source": [
    "For Classification using ML need atleast few training samples, so lets eliminate training samples with very few `target_label` and `source`."
   ]
  },
  {
   "cell_type": "code",
   "execution_count": 37,
   "id": "87a6080a",
   "metadata": {},
   "outputs": [
    {
     "data": {
      "text/plain": [
       "target_label\n",
       "HTTP Status            1017\n",
       "Security Alert          371\n",
       "Error                   177\n",
       "Resource Usage          177\n",
       "Critical Error          161\n",
       "Workflow Error            4\n",
       "Deprecation Warning       3\n",
       "Name: count, dtype: int64"
      ]
     },
     "execution_count": 37,
     "metadata": {},
     "output_type": "execute_result"
    }
   ],
   "source": [
    "df_non_regex['target_label'].value_counts()"
   ]
  },
  {
   "cell_type": "code",
   "execution_count": 38,
   "id": "1cce835a",
   "metadata": {},
   "outputs": [
    {
     "data": {
      "text/plain": [
       "source\n",
       "ModernHR           402\n",
       "ThirdPartyAPI      386\n",
       "ModernCRM          373\n",
       "AnalyticsEngine    371\n",
       "BillingSystem      371\n",
       "LegacyCRM            7\n",
       "Name: count, dtype: int64"
      ]
     },
     "execution_count": 38,
     "metadata": {},
     "output_type": "execute_result"
    }
   ],
   "source": [
    "df_non_regex['source'].value_counts()"
   ]
  },
  {
   "cell_type": "markdown",
   "id": "4a835d8b",
   "metadata": {},
   "source": [
    "Safely filter out `Workflow Error`, `Deprecation Error` and `LegacyCRM`."
   ]
  },
  {
   "cell_type": "code",
   "execution_count": 48,
   "id": "88217599",
   "metadata": {},
   "outputs": [
    {
     "data": {
      "text/plain": [
       "(1903, 6)"
      ]
     },
     "execution_count": 48,
     "metadata": {},
     "output_type": "execute_result"
    }
   ],
   "source": [
    "df_ml = df_non_regex[\n",
    "    (df_non_regex['source'] != 'LegacyCRM') &\n",
    "    (df_non_regex['target_label'] != 'Workflow Error') &\n",
    "    (df_non_regex['target_label'] != 'Deprecation Warning')\n",
    "]\n",
    "df_ml.shape"
   ]
  },
  {
   "cell_type": "code",
   "execution_count": 49,
   "id": "cd42ca72",
   "metadata": {},
   "outputs": [],
   "source": [
    "model = SentenceTransformer('all-MiniLM-L6-v2')  \n",
    "embeddings2= model.encode(df_ml['log_message'].tolist())"
   ]
  },
  {
   "cell_type": "code",
   "execution_count": 52,
   "id": "3482314a",
   "metadata": {},
   "outputs": [
    {
     "name": "stdout",
     "output_type": "stream",
     "text": [
      "                precision    recall  f1-score   support\n",
      "\n",
      "Critical Error       0.91      1.00      0.95        48\n",
      "         Error       0.98      0.89      0.93        47\n",
      "   HTTP Status       1.00      1.00      1.00       304\n",
      "Resource Usage       1.00      1.00      1.00        49\n",
      "Security Alert       1.00      0.99      1.00       123\n",
      "\n",
      "      accuracy                           0.99       571\n",
      "     macro avg       0.98      0.98      0.98       571\n",
      "  weighted avg       0.99      0.99      0.99       571\n",
      "\n"
     ]
    }
   ],
   "source": [
    "X = embeddings2\n",
    "y = df_ml['target_label'].values\n",
    "\n",
    "X_train, X_test, y_train, y_test = train_test_split(X, y, test_size=0.3, random_state=42)\n",
    "clf = LogisticRegression(max_iter=1000)\n",
    "clf.fit(X_train, y_train)\n",
    "y_pred = clf.predict(X_test)\n",
    "report = classification_report(y_test, y_pred)\n",
    "print(report)"
   ]
  },
  {
   "cell_type": "code",
   "execution_count": 54,
   "id": "b8cf331b",
   "metadata": {},
   "outputs": [
    {
     "data": {
      "text/plain": [
       "['models/log_classifier.joblib']"
      ]
     },
     "execution_count": 54,
     "metadata": {},
     "output_type": "execute_result"
    }
   ],
   "source": [
    "import joblib\n",
    "joblib.dump(clf, 'models/log_classifier.joblib')"
   ]
  }
 ],
 "metadata": {
  "kernelspec": {
   "display_name": ".venv",
   "language": "python",
   "name": "python3"
  },
  "language_info": {
   "codemirror_mode": {
    "name": "ipython",
    "version": 3
   },
   "file_extension": ".py",
   "mimetype": "text/x-python",
   "name": "python",
   "nbconvert_exporter": "python",
   "pygments_lexer": "ipython3",
   "version": "3.10.0"
  }
 },
 "nbformat": 4,
 "nbformat_minor": 5
}
